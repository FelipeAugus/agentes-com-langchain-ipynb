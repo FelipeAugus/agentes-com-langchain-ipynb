{
  "cells": [
    {
      "cell_type": "code",
      "execution_count": null,
      "metadata": {
        "colab": {
          "base_uri": "https://localhost:8080/"
        },
        "id": "ZGobW9JvfoPU",
        "outputId": "904f18dc-1728-438c-9ccf-222be65d6992"
      },
      "outputs": [
        {
          "name": "stdout",
          "output_type": "stream",
          "text": [
            "--2025-08-12 00:10:58--  https://github.com/FelipeAugus/agente-para-analise-de-vulnerabilidades-py/raw/main/prompt.md\n",
            "Resolving github.com (github.com)... 140.82.113.4\n",
            "Connecting to github.com (github.com)|140.82.113.4|:443... connected.\n",
            "HTTP request sent, awaiting response... 302 Found\n",
            "Location: https://raw.githubusercontent.com/FelipeAugus/agente-para-analise-de-vulnerabilidades-py/main/prompt.md [following]\n",
            "--2025-08-12 00:10:59--  https://raw.githubusercontent.com/FelipeAugus/agente-para-analise-de-vulnerabilidades-py/main/prompt.md\n",
            "Resolving raw.githubusercontent.com (raw.githubusercontent.com)... 185.199.108.133, 185.199.109.133, 185.199.110.133, ...\n",
            "Connecting to raw.githubusercontent.com (raw.githubusercontent.com)|185.199.108.133|:443... connected.\n",
            "HTTP request sent, awaiting response... 200 OK\n",
            "Length: 3065 (3.0K) [text/plain]\n",
            "Saving to: ‘prompt.md’\n",
            "\n",
            "prompt.md           100%[===================>]   2.99K  --.-KB/s    in 0s      \n",
            "\n",
            "2025-08-12 00:10:59 (44.4 MB/s) - ‘prompt.md’ saved [3065/3065]\n",
            "\n"
          ]
        }
      ],
      "source": [
        "!pip install -qU langchain-community langchain langchain-groq\n",
        "!wget https://github.com/FelipeAugus/agente-com-langchain-ipynb/raw/main/levantamento-de-vulnerabilidades/prompt.md -O prompt.md\n",
        "\n",
        "import os\n",
        "import requests\n",
        "from google.colab import userdata\n",
        "from typing import List\n",
        "from pydantic import BaseModel, Field\n",
        "from langchain_core.messages import HumanMessage, SystemMessage\n",
        "from langchain_core.prompts import PromptTemplate\n",
        "from langchain_groq import ChatGroq\n",
        "\n",
        "groq_api = userdata.get(\"GROQ_API_KEY\") # https://console.groq.com/keys\n",
        "os.environ[\"GROQ_API_KEY\"] = groq_api\n"
      ]
    },
    {
      "cell_type": "code",
      "execution_count": null,
      "metadata": {
        "colab": {
          "base_uri": "https://localhost:8080/"
        },
        "id": "7POCHw80mjE_",
        "outputId": "7e1db8fa-1dc1-4eb5-b63e-5176c88e40fc"
      },
      "outputs": [
        {
          "name": "stdout",
          "output_type": "stream",
          "text": [
            "llama-3.1-8b-instant\n",
            "deepseek-r1-distill-llama-70b\n",
            "compound-beta-mini\n",
            "compound-beta\n",
            "gemma2-9b-it\n",
            "meta-llama/llama-prompt-guard-2-86m\n",
            "openai/gpt-oss-120b\n",
            "llama3-8b-8192\n",
            "whisper-large-v3\n",
            "allam-2-7b\n",
            "playai-tts-arabic\n",
            "llama3-70b-8192\n",
            "llama-3.3-70b-versatile\n",
            "meta-llama/llama-guard-4-12b\n",
            "openai/gpt-oss-20b\n",
            "whisper-large-v3-turbo\n",
            "distil-whisper-large-v3-en\n",
            "qwen/qwen3-32b\n",
            "meta-llama/llama-4-maverick-17b-128e-instruct\n",
            "meta-llama/llama-prompt-guard-2-22m\n",
            "meta-llama/llama-4-scout-17b-16e-instruct\n",
            "playai-tts\n",
            "moonshotai/kimi-k2-instruct\n"
          ]
        }
      ],
      "source": [
        "response = requests.get(\"https://api.groq.com/openai/v1/models\", headers={\"Authorization\": f\"Bearer {groq_api}\"})\n",
        "data = response.json()\n",
        "print(\"Modelos disponiveis do Groq\")\n",
        "for model in data.get(\"data\", []): print(model[\"id\"])\n"
      ]
    },
    {
      "cell_type": "code",
      "execution_count": null,
      "metadata": {
        "id": "0oYq_Tkle3sF"
      },
      "outputs": [],
      "source": [
        "model_id = \"deepseek-r1-distill-llama-70b\"\n",
        "llm = ChatGroq(model=model_id, temperature=0)\n",
        "\n",
        "class ThreatItem(BaseModel):\n",
        "    \"\"\"Item do modelo de ameaças.\"\"\"\n",
        "    threat_type: str = Field(...,description=\"Tipo de ameaça (por exemplo, STRIDE: Spoofing, Tampering, etc.)\")\n",
        "    scenario: str = Field(..., description=\"Descrição do cenário de ameaça.\")\n",
        "    potential_impact: str = Field(..., description=\"Impacto potencial da ameaça.\")\n",
        "\n",
        "class Threats(BaseModel):\n",
        "    \"\"\"Saída contendo o modelo de ameaças e sugestões de melhoria.\"\"\"\n",
        "    threat_model: List[ThreatItem] = Field(..., description=\"Lista de ameaças identificadas.\")\n",
        "    improvement_suggestions: List[str] = Field(..., description=\"Sugestões para melhorar o modelo de ameaças.\")\n",
        "\n",
        "class SearchThreatAgent():\n",
        "    def __init__(self):\n",
        "        self.structured_llm_threats = llm.with_structured_output(Threats,\n",
        "    include_raw=False,\n",
        "    method=\"json_mode\")\n",
        "        self.system_msg = \"\"\n",
        "        with open(\"prompt.md\", \"r\") as f: self.system_msg = f.read()\n",
        "\n",
        "        self.user_msg = PromptTemplate.from_template(\"\"\"TIPO DE APLICAÇÃO: {tipo_aplicacao}\n",
        "        MÉTODOS DE AUTENTICAÇÃO: {autenticacao}\n",
        "        EXPOSTA NA INTERNET: {acesso_internet}\n",
        "        DADOS SENSÍVEIS: {dados_sensiveis}\n",
        "        DESCRIÇÃO DA APLICAÇÃO: {descricao_aplicacao}\n",
        "        \"\"\")\n",
        "\n",
        "    def search_threats(self, tipo_aplicacao: str, autenticacao: str, acesso_internet: str, dados_sensiveis: str, descricao_aplicacao: str) -> Threats:\n",
        "        threats = self.structured_llm_threats.invoke([\n",
        "            SystemMessage(content=self.system_msg),\n",
        "            HumanMessage(content=self.user_msg.format(tipo_aplicacao=tipo_aplicacao, autenticacao=autenticacao, acesso_internet=acesso_internet, dados_sensiveis=dados_sensiveis, descricao_aplicacao=descricao_aplicacao))\n",
        "        ])\n",
        "        return threats\n",
        "\n",
        "agente = SearchThreatAgent()"
      ]
    },
    {
      "cell_type": "code",
      "execution_count": null,
      "metadata": {
        "colab": {
          "base_uri": "https://localhost:8080/"
        },
        "id": "GHwgwKQshbrd",
        "outputId": "932a942c-abc0-47a9-b41b-77424d245618"
      },
      "outputs": [
        {
          "name": "stdout",
          "output_type": "stream",
          "text": [
            "threat_model=[ThreatItem(threat_type='Spoofing', scenario='Um atacante pode realizar um ataque de phishing contra os clientes, enviando emails fraudulentos que se parecem com comunicações oficiais da aplicação, visando roubar credenciais de acesso.', potential_impact='Perda de credenciais de clientes, permitindo acesso não autorizado à aplicação e aos contratos armazenados.'), ThreatItem(threat_type='Spoofing', scenario='Um atacante pode se passar por um cliente legítimo, utilizando uma sessão roubada ou credenciais comprometidas, para acessar ou modificar contratos.', potential_impact='Acesso não autorizado e potencial alteração ou roubo de contratos jurídicos.'), ThreatItem(threat_type='Spoofing', scenario='Um atacante pode criar um site falso que imita a interface da aplicação, enganando os usuários a inserir suas credenciais.', potential_impact='Credenciais de usuários comprometidas, permitindo acesso não autorizado à aplicação.'), ThreatItem(threat_type='Tampering', scenario='Um atacante pode modificar os dados de um contrato armazenado na base SQL, alterando cláusulas ou informações críticas.', potential_impact='Integridade dos contratos comprometida, levando a disputas legais ou perdas financeiras.'), ThreatItem(threat_type='Tampering', scenario='Um atacante pode explorar uma vulnerabilidade de injeção SQL para alterar ou excluir registros da base de dados.', potential_impact='Perda ou corrupção de dados críticos, afetando a integridade da aplicação.'), ThreatItem(threat_type='Tampering', scenario='Um atacante pode modificar arquivos de contrato durante o upload, inserindo conteúdo malicioso ou alterando informações sensíveis.', potential_impact='Contratos armazenados podem conter informações falsas ou maliciosas, comprometendo a confiabilidade.'), ThreatItem(threat_type='Repudiation', scenario='Um usuário pode negar ter realizado uma modificação em um contrato, alegando que não foi responsável pela alteração.', potential_impact='Dificuldade em identificar o responsável por modificações não autorizadas, levando a disputas legais.'), ThreatItem(threat_type='Repudiation', scenario='Um atacante pode realizar alterações em contratos sem deixar rastros, tornando difícil identificar a origem da modificação.', potential_impact='Falta de auditoria adequada, permitindo que ações maliciosas permaneçam indetectáveis.'), ThreatItem(threat_type='Information Disclosure', scenario='Um atacante pode explorar uma vulnerabilidade para acessar contratos de outros clientes, expondo informações confidenciais.', potential_impact='Exposição de dados sensíveis, violando a privacidade dos clientes e possivelmente violando regulamentações.'), ThreatItem(threat_type='Information Disclosure', scenario='Um atacante pode interceptar dados durante a transmissão entre o cliente e o servidor, especialmente se o tráfego não for adequadamente criptografado.', potential_impact='Dados sensíveis podem ser capturados e utilizados para fins maliciosos.'), ThreatItem(threat_type='Denial of Service', scenario='Um atacante pode realizar um ataque de negação de serviço (DoS) contra a aplicação, sobrecarregando o servidor com requisições maliciosas.', potential_impact='Indisponibilidade da aplicação, impedindo que os usuários acessem ou gerenciem seus contratos.'), ThreatItem(threat_type='Denial of Service', scenario='Um atacante pode explorar uma vulnerabilidade de injeção SQL para executar consultas pesadas e consumir recursos do banco de dados.', potential_impact='Degradção do desempenho ou indisponibilidade do sistema devido ao esgotamento de recursos.'), ThreatItem(threat_type='Elevation of Privilege', scenario='Um atacante pode explorar uma vulnerabilidade para elevar seus privilégios dentro do sistema, acessando funcionalidades restritas.', potential_impact='Acesso não autorizado a recursos administrativos, permitindo a modificação ou exclusão de dados críticos.'), ThreatItem(threat_type='Elevation of Privilege', scenario='Um atacante pode explorar uma vulnerabilidade na autenticação do EntraID para obter privilégios de administrador.', potential_impact='Controle total da aplicação, permitindo a modificação ou exclusão de todos os contratos e dados associados.'), ThreatItem(threat_type='Elevation of Privilege', scenario='Um atacante pode explorar uma vulnerabilidade no sistema de permissões para acessar contratos de outros usuários.', potential_impact='Violação da segurança dos dados, permitindo que usuários não autorizados acessem informações confidenciais.')] improvement_suggestions=['Por favor, forneça mais detalhes sobre o fluxo de autenticação entre os componentes para permitir uma análise melhor de possíveis falhas de autenticação.', 'Considere adicionar informações sobre como os dados sensíveis são armazenados e transmitidos para permitir uma análise mais precisa de exposição de dados.', 'Detalhes sobre a arquitetura da aplicação, incluindo os componentes envolvidos no armazenamento e gerenciamento de contratos, seriam úteis.', 'Especificações sobre os mecanismos de validação de entrada e prevenção contra injeção SQL seriam importantes para identificar vulnerabilidades de tampering.', 'Informações sobre os protocolos de criptografia utilizados para proteger os dados em trânsito e em repouso ajudariam a avaliar melhor os riscos de exposição de informações.', 'Detalhes sobre os mecanismos de auditoria e logging seriam úteis para avaliar a capacidade de detectar e responder a incidentes de segurança.', 'Especificações sobre as políticas de controle de acesso e permissões ajudariam a identificar possíveis vulnerabilidades de elevação de privilégios.', 'Informações sobre a implementação de firewalls, sistemas de detecção de intrusos e outras medidas de segurança de rede seriam úteis para avaliar a proteção contra ataques de negação de serviço.']\n"
          ]
        }
      ],
      "source": [
        "ameacas = agente.search_threats(\n",
        "    tipo_aplicacao=\"Web\",\n",
        "    autenticacao=\"EntraID\",\n",
        "    acesso_internet=\"Sim\",\n",
        "    dados_sensiveis=\"Sim\",\n",
        "    descricao_aplicacao=\"Uma aplicação para salvar contratos jurificos de clientes em uma base SQL.\"\n",
        ")\n",
        "print(ameacas)"
      ]
    },
    {
      "cell_type": "code",
      "execution_count": null,
      "metadata": {
        "colab": {
          "base_uri": "https://localhost:8080/"
        },
        "id": "juPAWTF5kK5i",
        "outputId": "0b9538fe-283a-4f22-f867-1786b625c6d4"
      },
      "outputs": [
        {
          "name": "stdout",
          "output_type": "stream",
          "text": [
            "Quantidade de ameaças identificadas: 15\n",
            "----- AMEACAS -----\n",
            "*************************\n",
            "Tipo de Ameaça: Spoofing\n",
            "Cenário de exemplo: Um atacante pode realizar um ataque de phishing contra os clientes, enviando emails fraudulentos que se parecem com comunicações oficiais da aplicação, visando roubar credenciais de acesso.\n",
            "Impactos: Perda de credenciais de clientes, permitindo acesso não autorizado à aplicação e aos contratos armazenados.\n",
            "*************************\n",
            "Tipo de Ameaça: Spoofing\n",
            "Cenário de exemplo: Um atacante pode se passar por um cliente legítimo, utilizando uma sessão roubada ou credenciais comprometidas, para acessar ou modificar contratos.\n",
            "Impactos: Acesso não autorizado e potencial alteração ou roubo de contratos jurídicos.\n",
            "*************************\n",
            "Tipo de Ameaça: Spoofing\n",
            "Cenário de exemplo: Um atacante pode criar um site falso que imita a interface da aplicação, enganando os usuários a inserir suas credenciais.\n",
            "Impactos: Credenciais de usuários comprometidas, permitindo acesso não autorizado à aplicação.\n",
            "*************************\n",
            "Tipo de Ameaça: Tampering\n",
            "Cenário de exemplo: Um atacante pode modificar os dados de um contrato armazenado na base SQL, alterando cláusulas ou informações críticas.\n",
            "Impactos: Integridade dos contratos comprometida, levando a disputas legais ou perdas financeiras.\n",
            "*************************\n",
            "Tipo de Ameaça: Tampering\n",
            "Cenário de exemplo: Um atacante pode explorar uma vulnerabilidade de injeção SQL para alterar ou excluir registros da base de dados.\n",
            "Impactos: Perda ou corrupção de dados críticos, afetando a integridade da aplicação.\n",
            "*************************\n",
            "Tipo de Ameaça: Tampering\n",
            "Cenário de exemplo: Um atacante pode modificar arquivos de contrato durante o upload, inserindo conteúdo malicioso ou alterando informações sensíveis.\n",
            "Impactos: Contratos armazenados podem conter informações falsas ou maliciosas, comprometendo a confiabilidade.\n",
            "*************************\n",
            "Tipo de Ameaça: Repudiation\n",
            "Cenário de exemplo: Um usuário pode negar ter realizado uma modificação em um contrato, alegando que não foi responsável pela alteração.\n",
            "Impactos: Dificuldade em identificar o responsável por modificações não autorizadas, levando a disputas legais.\n",
            "*************************\n",
            "Tipo de Ameaça: Repudiation\n",
            "Cenário de exemplo: Um atacante pode realizar alterações em contratos sem deixar rastros, tornando difícil identificar a origem da modificação.\n",
            "Impactos: Falta de auditoria adequada, permitindo que ações maliciosas permaneçam indetectáveis.\n",
            "*************************\n",
            "Tipo de Ameaça: Information Disclosure\n",
            "Cenário de exemplo: Um atacante pode explorar uma vulnerabilidade para acessar contratos de outros clientes, expondo informações confidenciais.\n",
            "Impactos: Exposição de dados sensíveis, violando a privacidade dos clientes e possivelmente violando regulamentações.\n",
            "*************************\n",
            "Tipo de Ameaça: Information Disclosure\n",
            "Cenário de exemplo: Um atacante pode interceptar dados durante a transmissão entre o cliente e o servidor, especialmente se o tráfego não for adequadamente criptografado.\n",
            "Impactos: Dados sensíveis podem ser capturados e utilizados para fins maliciosos.\n",
            "*************************\n",
            "Tipo de Ameaça: Denial of Service\n",
            "Cenário de exemplo: Um atacante pode realizar um ataque de negação de serviço (DoS) contra a aplicação, sobrecarregando o servidor com requisições maliciosas.\n",
            "Impactos: Indisponibilidade da aplicação, impedindo que os usuários acessem ou gerenciem seus contratos.\n",
            "*************************\n",
            "Tipo de Ameaça: Denial of Service\n",
            "Cenário de exemplo: Um atacante pode explorar uma vulnerabilidade de injeção SQL para executar consultas pesadas e consumir recursos do banco de dados.\n",
            "Impactos: Degradção do desempenho ou indisponibilidade do sistema devido ao esgotamento de recursos.\n",
            "*************************\n",
            "Tipo de Ameaça: Elevation of Privilege\n",
            "Cenário de exemplo: Um atacante pode explorar uma vulnerabilidade para elevar seus privilégios dentro do sistema, acessando funcionalidades restritas.\n",
            "Impactos: Acesso não autorizado a recursos administrativos, permitindo a modificação ou exclusão de dados críticos.\n",
            "*************************\n",
            "Tipo de Ameaça: Elevation of Privilege\n",
            "Cenário de exemplo: Um atacante pode explorar uma vulnerabilidade na autenticação do EntraID para obter privilégios de administrador.\n",
            "Impactos: Controle total da aplicação, permitindo a modificação ou exclusão de todos os contratos e dados associados.\n",
            "*************************\n",
            "Tipo de Ameaça: Elevation of Privilege\n",
            "Cenário de exemplo: Um atacante pode explorar uma vulnerabilidade no sistema de permissões para acessar contratos de outros usuários.\n",
            "Impactos: Violação da segurança dos dados, permitindo que usuários não autorizados acessem informações confidenciais.\n"
          ]
        }
      ],
      "source": [
        "print(f'----- AMEACAS -----')\n",
        "print(f'Quantidade de ameaças identificadas: {len(ameacas.threat_model)}')\n",
        "for threat in ameacas.threat_model:\n",
        "    print('*'*25)\n",
        "    print(f'Tipo de Ameaça: {threat.threat_type}')\n",
        "    print(f'Cenário de exemplo: {threat.scenario}')\n",
        "    print(f'Impactos: {threat.potential_impact}')"
      ]
    },
    {
      "cell_type": "code",
      "execution_count": null,
      "metadata": {
        "colab": {
          "base_uri": "https://localhost:8080/"
        },
        "id": "PyCWBXOkk_Bu",
        "outputId": "709ddae4-924f-4072-e1f1-9ab27303e9d0"
      },
      "outputs": [
        {
          "name": "stdout",
          "output_type": "stream",
          "text": [
            "----- MELHORIAS SUGERIDAS -----\n",
            "Quantidade de melhorias sugeridas: 8\n",
            "1. Por favor, forneça mais detalhes sobre o fluxo de autenticação entre os componentes para permitir uma análise melhor de possíveis falhas de autenticação.\n",
            "2. Considere adicionar informações sobre como os dados sensíveis são armazenados e transmitidos para permitir uma análise mais precisa de exposição de dados.\n",
            "3. Detalhes sobre a arquitetura da aplicação, incluindo os componentes envolvidos no armazenamento e gerenciamento de contratos, seriam úteis.\n",
            "4. Especificações sobre os mecanismos de validação de entrada e prevenção contra injeção SQL seriam importantes para identificar vulnerabilidades de tampering.\n",
            "5. Informações sobre os protocolos de criptografia utilizados para proteger os dados em trânsito e em repouso ajudariam a avaliar melhor os riscos de exposição de informações.\n",
            "6. Detalhes sobre os mecanismos de auditoria e logging seriam úteis para avaliar a capacidade de detectar e responder a incidentes de segurança.\n",
            "7. Especificações sobre as políticas de controle de acesso e permissões ajudariam a identificar possíveis vulnerabilidades de elevação de privilégios.\n",
            "8. Informações sobre a implementação de firewalls, sistemas de detecção de intrusos e outras medidas de segurança de rede seriam úteis para avaliar a proteção contra ataques de negação de serviço.\n"
          ]
        }
      ],
      "source": [
        "print(f'----- MELHORIAS SUGERIDAS -----')\n",
        "print(f'Quantidade de melhorias sugeridas: {len(ameacas.improvement_suggestions)}')\n",
        "for i, s in enumerate(ameacas.improvement_suggestions): print(f'{i+1}. {s}')"
      ]
    }
  ],
  "metadata": {
    "colab": {
      "provenance": []
    },
    "kernelspec": {
      "display_name": "Python 3",
      "name": "python3"
    },
    "language_info": {
      "name": "python"
    }
  },
  "nbformat": 4,
  "nbformat_minor": 0
}
