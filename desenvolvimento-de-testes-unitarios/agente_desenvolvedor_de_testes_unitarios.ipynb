{
  "cells": [
    {
      "cell_type": "code",
      "execution_count": null,
      "metadata": {
        "colab": {
          "base_uri": "https://localhost:8080/"
        },
        "id": "ZGobW9JvfoPU",
        "outputId": "b093b2d1-5a66-4457-f7e9-c1f74a6b5088"
      },
      "outputs": [
        {
          "name": "stdout",
          "output_type": "stream",
          "text": [
            "\u001b[2K   \u001b[90m━━━━━━━━━━━━━━━━━━━━━━━━━━━━━━━━━━━━━━━━\u001b[0m \u001b[32m2.5/2.5 MB\u001b[0m \u001b[31m1.2 MB/s\u001b[0m eta \u001b[36m0:00:00\u001b[0m\n",
            "\u001b[2K   \u001b[90m━━━━━━━━━━━━━━━━━━━━━━━━━━━━━━━━━━━━━━━━\u001b[0m \u001b[32m131.4/131.4 kB\u001b[0m \u001b[31m1.2 MB/s\u001b[0m eta \u001b[36m0:00:00\u001b[0m\n",
            "\u001b[2K   \u001b[90m━━━━━━━━━━━━━━━━━━━━━━━━━━━━━━━━━━━━━━━━\u001b[0m \u001b[32m45.2/45.2 kB\u001b[0m \u001b[31m1.2 MB/s\u001b[0m eta \u001b[36m0:00:00\u001b[0m\n",
            "\u001b[2K   \u001b[90m━━━━━━━━━━━━━━━━━━━━━━━━━━━━━━━━━━━━━━━━\u001b[0m \u001b[32m50.9/50.9 kB\u001b[0m \u001b[31m1.3 MB/s\u001b[0m eta \u001b[36m0:00:00\u001b[0m\n",
            "\u001b[?25h"
          ]
        }
      ],
      "source": [
        "%pip install -qU langchain-community langchain langchain-groq\n",
        "!wget https://github.com/FelipeAugus/agente-com-langchain-ipynb/raw/main/desenvolvimento-de-testes-unitarios/prompt.md -O prompt.md\n",
        "\n",
        "import os\n",
        "import requests\n",
        "from google.colab import userdata\n",
        "from langchain_core.messages import HumanMessage, SystemMessage\n",
        "from langchain_groq import ChatGroq\n",
        "\n",
        "groq_api = userdata.get(\"GROQ_API_KEY\") # https://console.groq.com/keys\n",
        "os.environ[\"GROQ_API_KEY\"] = groq_api\n"
      ]
    },
    {
      "cell_type": "code",
      "execution_count": 19,
      "metadata": {
        "colab": {
          "base_uri": "https://localhost:8080/"
        },
        "id": "7POCHw80mjE_",
        "outputId": "3879f932-9a72-4c8e-b735-507f0dce0326"
      },
      "outputs": [
        {
          "name": "stdout",
          "output_type": "stream",
          "text": [
            "Modelos disponiveis do Groq\n",
            "allam-2-7b\n",
            "meta-llama/llama-prompt-guard-2-22m\n",
            "openai/gpt-oss-20b\n",
            "llama-3.1-8b-instant\n",
            "distil-whisper-large-v3-en\n",
            "meta-llama/llama-4-scout-17b-16e-instruct\n",
            "meta-llama/llama-prompt-guard-2-86m\n",
            "compound-beta-mini\n",
            "openai/gpt-oss-120b\n",
            "llama3-70b-8192\n",
            "gemma2-9b-it\n",
            "playai-tts-arabic\n",
            "playai-tts\n",
            "meta-llama/llama-guard-4-12b\n",
            "whisper-large-v3\n",
            "llama3-8b-8192\n",
            "llama-3.3-70b-versatile\n",
            "deepseek-r1-distill-llama-70b\n",
            "meta-llama/llama-4-maverick-17b-128e-instruct\n",
            "qwen/qwen3-32b\n",
            "moonshotai/kimi-k2-instruct\n",
            "compound-beta\n",
            "whisper-large-v3-turbo\n"
          ]
        }
      ],
      "source": [
        "response = requests.get(\"https://api.groq.com/openai/v1/models\", headers={\"Authorization\": f\"Bearer {groq_api}\"})\n",
        "data = response.json()\n",
        "print(\"Modelos disponiveis do Groq\")\n",
        "for model in data.get(\"data\", []): print(model[\"id\"])\n"
      ]
    },
    {
      "cell_type": "code",
      "execution_count": 20,
      "metadata": {
        "id": "0oYq_Tkle3sF"
      },
      "outputs": [],
      "source": [
        "class UnitTestsDeveloperAgent():\n",
        "    def __init__(self):\n",
        "        model_id = \"llama-3.1-8b-instant\"\n",
        "        self.llm = ChatGroq(model=model_id, temperature=0)\n",
        "        self.system_msg = \"\"\n",
        "        with open(\"prompt.md\", \"r\") as f: self.system_msg = f.read()\n",
        "\n",
        "    def generate_tests(self, codigo_fonte: str) -> str:\n",
        "        threats = self.llm.invoke([\n",
        "            SystemMessage(content=self.system_msg),\n",
        "            HumanMessage(content=codigo_fonte)\n",
        "        ])\n",
        "        return threats\n",
        "\n",
        "agente = UnitTestsDeveloperAgent()"
      ]
    },
    {
      "cell_type": "code",
      "execution_count": 21,
      "metadata": {
        "colab": {
          "base_uri": "https://localhost:8080/"
        },
        "id": "GHwgwKQshbrd",
        "outputId": "e429fa86-3581-4104-a4a4-52c6d1cbb833"
      },
      "outputs": [
        {
          "name": "stdout",
          "output_type": "stream",
          "text": [
            "```python\n",
            "import pytest\n",
            "\n",
            "def test_dado_numero_quando_par_entao_retorna_true():\n",
            "    # Arrange\n",
            "    numero = 2\n",
            "\n",
            "    # Act\n",
            "    resultado = is_par(numero)\n",
            "\n",
            "    # Assert\n",
            "    assert resultado is True\n",
            "\n",
            "\n",
            "def test_dado_numero_quando_impar_entao_retorna_false():\n",
            "    # Arrange\n",
            "    numero = 3\n",
            "\n",
            "    # Act\n",
            "    resultado = is_par(numero)\n",
            "\n",
            "    # Assert\n",
            "    assert resultado is False\n",
            "\n",
            "\n",
            "def test_dado_numero_zero_entao_retorna_true():\n",
            "    # Arrange\n",
            "    numero = 0\n",
            "\n",
            "    # Act\n",
            "    resultado = is_par(numero)\n",
            "\n",
            "    # Assert\n",
            "    assert resultado is True\n",
            "\n",
            "\n",
            "def test_dado_numero_negativo_entao_retorna_true():\n",
            "    # Arrange\n",
            "    numero = -4\n",
            "\n",
            "    # Act\n",
            "    resultado = is_par(numero)\n",
            "\n",
            "    # Assert\n",
            "    assert resultado is True\n",
            "\n",
            "\n",
            "def test_dado_tipo_nao_numerico_entao_levanta_typeerror():\n",
            "    # Arrange\n",
            "    numero = \"a\"\n",
            "\n",
            "    # Act / Assert\n",
            "    with pytest.raises(TypeError):\n",
            "        is_par(numero)\n",
            "\n",
            "\n",
            "def test_dado_tipo_complexo_entao_levanta_typeerror():\n",
            "    # Arrange\n",
            "    numero = 1 + 2j\n",
            "\n",
            "    # Act / Assert\n",
            "    with pytest.raises(TypeError):\n",
            "        is_par(numero)\n",
            "```\n"
          ]
        }
      ],
      "source": [
        "testes = agente.generate_tests(\n",
        "    codigo_fonte=\"\"\"\n",
        "    def is_par(numero):\n",
        "        return numero % 2 == 0\n",
        "    \"\"\",\n",
        ")\n",
        "print(testes.content)"
      ]
    },
    {
      "cell_type": "code",
      "execution_count": 22,
      "metadata": {
        "colab": {
          "base_uri": "https://localhost:8080/"
        },
        "id": "pMcsAB80Zg7E",
        "outputId": "cb7f8303-f1cd-4281-cf72-c141c5f24ea9"
      },
      "outputs": [
        {
          "name": "stdout",
          "output_type": "stream",
          "text": [
            "```python\n",
            "import pytest\n",
            "import re\n",
            "from unittest.mock import Mock\n",
            "\n",
            "def test_dado_nome_nulo_quando_normalizar_nome_entao_levanta_value_error():\n",
            "    # Arrange\n",
            "    nome = None\n",
            "\n",
            "    # Act / Assert\n",
            "    with pytest.raises(ValueError):\n",
            "        normalizar_nome(nome)\n",
            "\n",
            "\n",
            "def test_dado_nome_vazio_quando_normalizar_nome_entao_retorna_string_vazia():\n",
            "    # Arrange\n",
            "    nome = \"\"\n",
            "\n",
            "    # Act\n",
            "    resultado = normalizar_nome(nome)\n",
            "\n",
            "    # Assert\n",
            "    assert resultado == \"\"\n",
            "\n",
            "\n",
            "def test_dado_nome_com_multiplos espaços_quando_normalizar_nome_entao_retorna_nome_sem espaços():\n",
            "    # Arrange\n",
            "    nome = \"   João   Silva   \"\n",
            "\n",
            "    # Act\n",
            "    resultado = normalizar_nome(nome)\n",
            "\n",
            "    # Assert\n",
            "    assert resultado == \"João Silva\"\n",
            "\n",
            "\n",
            "def test_dado_nome_com_caracteres_especiais_quando_normalizar_nome_entao_retorna_nome_sem_caracteres_especiais():\n",
            "    # Arrange\n",
            "    nome = \"João# Silva$\"\n",
            "\n",
            "    # Act\n",
            "    resultado = normalizar_nome(nome)\n",
            "\n",
            "    # Assert\n",
            "    assert resultado == \"João Silva\"\n",
            "\n",
            "\n",
            "def test_dado_nome_com_letras_minusculas_quando_normalizar_nome_entao_retorna_nome_com_letras_maiusculas():\n",
            "    # Arrange\n",
            "    nome = \"joão silva\"\n",
            "\n",
            "    # Act\n",
            "    resultado = normalizar_nome(nome)\n",
            "\n",
            "    # Assert\n",
            "    assert resultado == \"João Silva\"\n",
            "\n",
            "\n",
            "def test_dado_prefixo_invalido_quando_gerar_id_pedido_entao_levanta_value_error():\n",
            "    # Arrange\n",
            "    prefixo = \"abc\"\n",
            "    seq_provider = Mock(return_value=1)\n",
            "\n",
            "    # Act / Assert\n",
            "    with pytest.raises(ValueError):\n",
            "        gerar_id_pedido(prefixo, seq_provider)\n",
            "\n",
            "\n",
            "def test_dado_prefixo_valido_quando_gerar_id_pedido_entao_retorna_id_com_prefixo_e_seq():\n",
            "    # Arrange\n",
            "    prefixo = \"AB\"\n",
            "    seq_provider = Mock(return_value=1)\n",
            "\n",
            "    # Act\n",
            "    resultado = gerar_id_pedido(prefixo, seq_provider)\n",
            "\n",
            "    # Assert\n",
            "    assert resultado == f\"AB-000001\"\n",
            "\n",
            "\n",
            "def test_dado_seq_provider_retornando_valor_invalido_quando_gerar_id_pedido_entao_levanta_value_error():\n",
            "    # Arrange\n",
            "    prefixo = \"AB\"\n",
            "    seq_provider = Mock(return_value=-1)\n",
            "\n",
            "    # Act / Assert\n",
            "    with pytest.raises(ValueError):\n",
            "        gerar_id_pedido(prefixo, seq_provider)\n",
            "\n",
            "\n",
            "def test_dado_seq_provider_retornando_valor_valido_quando_gerar_id_pedido_entao_retorna_id_com_prefixo_e_seq():\n",
            "    # Arrange\n",
            "    prefixo = \"AB\"\n",
            "    seq_provider = Mock(return_value=1)\n",
            "\n",
            "    # Act\n",
            "    resultado = gerar_id_pedido(prefixo, seq_provider)\n",
            "\n",
            "    # Assert\n",
            "    assert resultado == f\"AB-000001\"\n",
            "\n",
            "\n",
            "def test_dado_seq_provider_retornando_valor_maior_que_6_digitos_quando_gerar_id_pedido_entao_retorna_id_com_prefixo_e_seq():\n",
            "    # Arrange\n",
            "    prefixo = \"AB\"\n",
            "    seq_provider = Mock(return_value=1000001)\n",
            "\n",
            "    # Act\n",
            "    resultado = gerar_id_pedido(prefixo, seq_provider)\n",
            "\n",
            "    # Assert\n",
            "    assert resultado == f\"AB-000001\"\n",
            "```\n"
          ]
        }
      ],
      "source": [
        "testes = agente.generate_tests(\n",
        "    codigo_fonte=\"\"\"\n",
        "    def normalizar_nome(nome: str) -> str:\n",
        "        if nome is None:\n",
        "            raise ValueError(\"nome não pode ser None\")\n",
        "        nome = nome.strip()\n",
        "        nome = re.sub(r\"\\s+\", \" \", nome)\n",
        "        if nome == \"\":\n",
        "            return \"\"\n",
        "        return nome.title()\n",
        "\n",
        "    def gerar_id_pedido(prefixo: str, seq_provider) -> str:\n",
        "        if not isinstance(prefixo, str) or not re.fullmatch(r\"[A-Z]{2,5}\", prefixo):\n",
        "            raise ValueError(\"prefixo inválido (use 2-5 letras maiúsculas)\")\n",
        "        seq = seq_provider()\n",
        "        if not isinstance(seq, int) or seq < 1:\n",
        "            raise ValueError(\"sequência inválida do provedor (>= 1)\")\n",
        "        return f\"{prefixo}-{seq:06d}\"\n",
        "    \"\"\",\n",
        ")\n",
        "print(testes.content)"
      ]
    }
  ],
  "metadata": {
    "colab": {
      "provenance": []
    },
    "kernelspec": {
      "display_name": "Python 3",
      "name": "python3"
    },
    "language_info": {
      "name": "python"
    }
  },
  "nbformat": 4,
  "nbformat_minor": 0
}
